{
  "nbformat": 4,
  "nbformat_minor": 0,
  "metadata": {
    "colab": {
      "provenance": [],
      "authorship_tag": "ABX9TyM+iy5/tfCcuG6HkOYx24S5",
      "include_colab_link": true
    },
    "kernelspec": {
      "name": "python3",
      "display_name": "Python 3"
    },
    "language_info": {
      "name": "python"
    }
  },
  "cells": [
    {
      "cell_type": "markdown",
      "metadata": {
        "id": "view-in-github",
        "colab_type": "text"
      },
      "source": [
        "<a href=\"https://colab.research.google.com/github/AnaDry/class/blob/main/poo.ipynb\" target=\"_parent\"><img src=\"https://colab.research.google.com/assets/colab-badge.svg\" alt=\"Open In Colab\"/></a>"
      ]
    },
    {
      "source": [
        "## Encapsulamento: Protegendo o atributo cor\n",
        "class Carro:\n",
        "    def __init__(self, marca, modelo, cor):\n",
        "        self.__cor = cor  # Encapsulamento (atributo privado)\n",
        "        self.modelo = modelo\n",
        "        self.marca = marca\n",
        "\n",
        "    def get_cor(self):\n",
        "        return self.__cor  # Método getter para acessar a cor\n",
        "\n",
        "    def alterar_cor(self, nova_cor):\n",
        "        self.__cor = nova_cor  # Método setter para modificar a cor\n",
        "\n",
        "    def acelerar(self):\n",
        "        print(f\"O {self.modelo} está acelerando!\")\n",
        "\n",
        "## Herança e Polimorfismo\n",
        "class Veiculo:\n",
        "    def __init__(self, marca, modelo):\n",
        "        self.marca = marca\n",
        "        self.modelo = modelo\n",
        "\n",
        "    def acelerar(self):\n",
        "        print(f\"{self.modelo} está acelerando!\")\n",
        "\n",
        "class Moto(Veiculo):\n",
        "    def __init__(self, marca, modelo):\n",
        "        super().__init__(marca, modelo)\n",
        "\n",
        "## Polimorfismo: Redefinição do método acelerar\n",
        "    def acelerar(self):\n",
        "        print(f\"A moto {self.modelo} está acelerando rapidamente!\")\n",
        "\n",
        "## Abstração: Classe abstrata que obriga as classes filhas a implementarem \"movimentar()\"\n",
        "from abc import ABC , abstractmethod\n",
        "\n",
        "class VeiculoAbstrato(ABC):\n",
        "    def __init__(self, marca, modelo):\n",
        "        self.marca = marca\n",
        "        self.modelo = modelo\n",
        "    @abstractmethod\n",
        "    def movimentar(self):\n",
        "        pass  # Método abstrato deve ser implementado pelas classes filhas\n",
        "\n",
        "class CarroAbstrato(VeiculoAbstrato):\n",
        "    def __init__(self, marca, modelo):\n",
        "        super().__init__(marca, modelo)\n",
        "    def movimentar(self):\n",
        "        print(f\"O carro {self.modelo} está se movendo em alta velocidade!\")\n",
        "\n",
        "## Criando objetos\n",
        "carro = Carro(\"Fiat\", \"Palio\", \"Preto\")\n",
        "moto = Moto(\"Honda\", \"CB 500\")\n",
        "\n",
        "## Encapsulamento\n",
        "print(carro.get_cor())\n",
        "\n",
        "## Herança\n",
        "carro.acelerar()  # Carro acelera\n",
        "moto.acelerar()   # Moto acelera de maneira diferente\n",
        "\n",
        "## Polimorfismo: Diferentes comportamentos do método acelerar\n",
        "carro.acelerar()\n",
        "moto.acelerar()\n",
        "\n",
        "## Abstração\n",
        "carro_abstrato = CarroAbstrato(\"Ford\", \"Fusion\")\n",
        "carro_abstrato.movimentar()"
      ],
      "cell_type": "code",
      "metadata": {
        "colab": {
          "base_uri": "https://localhost:8080/"
        },
        "id": "4gNhqdb4fBQT",
        "outputId": "5f51bd5f-8e86-4f17-c785-58afed900474"
      },
      "execution_count": 9,
      "outputs": [
        {
          "output_type": "stream",
          "name": "stdout",
          "text": [
            "Preto\n",
            "O Palio está acelerando!\n",
            "A moto CB 500 está acelerando rapidamente!\n",
            "O Palio está acelerando!\n",
            "A moto CB 500 está acelerando rapidamente!\n",
            "O carro Fusion está se movendo em alta velocidade!\n"
          ]
        }
      ]
    }
  ]
}